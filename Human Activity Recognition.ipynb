{
 "cells": [
  {
   "cell_type": "code",
   "execution_count": 1,
   "id": "8c4de166",
   "metadata": {},
   "outputs": [],
   "source": [
    "import tensorflow as tf\n",
    "import numpy as np\n",
    "import matplotlib.pyplot as plt\n",
    "import pandas as pd\n",
    "from sklearn.preprocessing import OneHotEncoder\n",
    "from sklearn.preprocessing import StandardScaler"
   ]
  },
  {
   "cell_type": "markdown",
   "id": "6ad75537",
   "metadata": {},
   "source": [
    "### Data preprocessing"
   ]
  },
  {
   "cell_type": "code",
   "execution_count": 2,
   "id": "28e52963",
   "metadata": {},
   "outputs": [],
   "source": [
    "def load_file(path):\n",
    "    return pd.read_csv(path, delim_whitespace=True, header=None)\n",
    "X_train=[]\n",
    "X_train.append(load_file(\"./UCI HAR dataset/UCI HAR dataset/train/Inertial Signals/body_acc_x_train.txt\").to_numpy())\n",
    "X_train.append(load_file(\"./UCI HAR dataset/UCI HAR dataset/train/Inertial Signals/body_acc_y_train.txt\").to_numpy())\n",
    "X_train.append(load_file(\"./UCI HAR dataset/UCI HAR dataset/train/Inertial Signals/body_acc_z_train.txt\").to_numpy())\n",
    "X_train.append(load_file(\"./UCI HAR dataset/UCI HAR dataset/train/Inertial Signals/body_gyro_x_train.txt\").to_numpy())\n",
    "X_train.append(load_file(\"./UCI HAR dataset/UCI HAR dataset/train/Inertial Signals/body_gyro_y_train.txt\").to_numpy())\n",
    "X_train.append(load_file(\"./UCI HAR dataset/UCI HAR dataset/train/Inertial Signals/body_gyro_z_train.txt\").to_numpy())\n",
    "X_train.append(load_file(\"./UCI HAR dataset/UCI HAR dataset/train/Inertial Signals/total_acc_x_train.txt\").to_numpy())\n",
    "X_train.append(load_file(\"./UCI HAR dataset/UCI HAR dataset/train/Inertial Signals/total_acc_y_train.txt\").to_numpy())\n",
    "X_train.append(load_file(\"./UCI HAR dataset/UCI HAR dataset/train/Inertial Signals/total_acc_z_train.txt\").to_numpy())\n",
    "X_train=np.transpose(X_train, (1,2,0))"
   ]
  },
  {
   "cell_type": "code",
   "execution_count": 3,
   "id": "f500e2ce",
   "metadata": {},
   "outputs": [],
   "source": [
    "X_test=[]\n",
    "X_test.append(load_file(\"./UCI HAR dataset/UCI HAR dataset/test/Inertial Signals/body_acc_x_test.txt\").to_numpy())\n",
    "X_test.append(load_file(\"./UCI HAR dataset/UCI HAR dataset/test/Inertial Signals/body_acc_y_test.txt\").to_numpy())\n",
    "X_test.append(load_file(\"./UCI HAR dataset/UCI HAR dataset/test/Inertial Signals/body_acc_z_test.txt\").to_numpy())\n",
    "X_test.append(load_file(\"./UCI HAR dataset/UCI HAR dataset/test/Inertial Signals/body_gyro_x_test.txt\").to_numpy())\n",
    "X_test.append(load_file(\"./UCI HAR dataset/UCI HAR dataset/test/Inertial Signals/body_gyro_y_test.txt\").to_numpy())\n",
    "X_test.append(load_file(\"./UCI HAR dataset/UCI HAR dataset/test/Inertial Signals/body_gyro_z_test.txt\").to_numpy())\n",
    "X_test.append(load_file(\"./UCI HAR dataset/UCI HAR dataset/test/Inertial Signals/total_acc_x_test.txt\").to_numpy())\n",
    "X_test.append(load_file(\"./UCI HAR dataset/UCI HAR dataset/test/Inertial Signals/total_acc_y_test.txt\").to_numpy())\n",
    "X_test.append(load_file(\"./UCI HAR dataset/UCI HAR dataset/test/Inertial Signals/total_acc_z_test.txt\").to_numpy())\n",
    "X_test=np.transpose(X_test, (1,2,0))"
   ]
  },
  {
   "cell_type": "code",
   "execution_count": 4,
   "id": "b917d3b5",
   "metadata": {},
   "outputs": [],
   "source": [
    "y_train=pd.read_csv(\"./UCI HAR dataset/UCI HAR dataset/train/y_train.txt\", delim_whitespace=True, header=None)\n",
    "y_test=pd.read_csv(\"./UCI HAR dataset/UCI HAR dataset/test/y_test.txt\", delim_whitespace=True, header=None)"
   ]
  },
  {
   "cell_type": "code",
   "execution_count": 5,
   "id": "14975b31",
   "metadata": {},
   "outputs": [
    {
     "data": {
      "text/plain": [
       "(7352, 1)"
      ]
     },
     "execution_count": 5,
     "metadata": {},
     "output_type": "execute_result"
    }
   ],
   "source": [
    "np.shape(y_train)"
   ]
  },
  {
   "cell_type": "code",
   "execution_count": 6,
   "id": "c76ae113",
   "metadata": {},
   "outputs": [
    {
     "data": {
      "text/plain": [
       "(7352, 128, 9)"
      ]
     },
     "execution_count": 6,
     "metadata": {},
     "output_type": "execute_result"
    }
   ],
   "source": [
    "np.shape(X_train)"
   ]
  },
  {
   "cell_type": "code",
   "execution_count": 7,
   "id": "afa250c4",
   "metadata": {},
   "outputs": [],
   "source": [
    "activity_labels=pd.read_csv('./UCI HAR dataset/UCI HAR dataset/activity_labels.txt', delim_whitespace=True, header=None)"
   ]
  },
  {
   "cell_type": "code",
   "execution_count": 8,
   "id": "70ae9ad3",
   "metadata": {},
   "outputs": [
    {
     "data": {
      "text/plain": [
       "{1: 'WALKING',\n",
       " 2: 'WALKING_UPSTAIRS',\n",
       " 3: 'WALKING_DOWNSTAIRS',\n",
       " 4: 'SITTING',\n",
       " 5: 'STANDING',\n",
       " 6: 'LAYING'}"
      ]
     },
     "execution_count": 8,
     "metadata": {},
     "output_type": "execute_result"
    }
   ],
   "source": [
    "dict(activity_labels.values)"
   ]
  },
  {
   "cell_type": "code",
   "execution_count": 9,
   "id": "a135340d",
   "metadata": {},
   "outputs": [],
   "source": [
    "y_train[0]=y_train[0].map(dict(activity_labels.values))\n",
    "y_test[0]=y_test[0].map(dict(activity_labels.values))\n",
    "y_train.columns=['Activity']\n",
    "y_test.columns=['Activity']"
   ]
  },
  {
   "cell_type": "code",
   "execution_count": 10,
   "id": "695f5f96",
   "metadata": {},
   "outputs": [
    {
     "data": {
      "text/html": [
       "<div>\n",
       "<style scoped>\n",
       "    .dataframe tbody tr th:only-of-type {\n",
       "        vertical-align: middle;\n",
       "    }\n",
       "\n",
       "    .dataframe tbody tr th {\n",
       "        vertical-align: top;\n",
       "    }\n",
       "\n",
       "    .dataframe thead th {\n",
       "        text-align: right;\n",
       "    }\n",
       "</style>\n",
       "<table border=\"1\" class=\"dataframe\">\n",
       "  <thead>\n",
       "    <tr style=\"text-align: right;\">\n",
       "      <th></th>\n",
       "      <th>Activity</th>\n",
       "    </tr>\n",
       "  </thead>\n",
       "  <tbody>\n",
       "    <tr>\n",
       "      <th>0</th>\n",
       "      <td>STANDING</td>\n",
       "    </tr>\n",
       "    <tr>\n",
       "      <th>1</th>\n",
       "      <td>STANDING</td>\n",
       "    </tr>\n",
       "    <tr>\n",
       "      <th>2</th>\n",
       "      <td>STANDING</td>\n",
       "    </tr>\n",
       "    <tr>\n",
       "      <th>3</th>\n",
       "      <td>STANDING</td>\n",
       "    </tr>\n",
       "    <tr>\n",
       "      <th>4</th>\n",
       "      <td>STANDING</td>\n",
       "    </tr>\n",
       "    <tr>\n",
       "      <th>...</th>\n",
       "      <td>...</td>\n",
       "    </tr>\n",
       "    <tr>\n",
       "      <th>7347</th>\n",
       "      <td>WALKING_UPSTAIRS</td>\n",
       "    </tr>\n",
       "    <tr>\n",
       "      <th>7348</th>\n",
       "      <td>WALKING_UPSTAIRS</td>\n",
       "    </tr>\n",
       "    <tr>\n",
       "      <th>7349</th>\n",
       "      <td>WALKING_UPSTAIRS</td>\n",
       "    </tr>\n",
       "    <tr>\n",
       "      <th>7350</th>\n",
       "      <td>WALKING_UPSTAIRS</td>\n",
       "    </tr>\n",
       "    <tr>\n",
       "      <th>7351</th>\n",
       "      <td>WALKING_UPSTAIRS</td>\n",
       "    </tr>\n",
       "  </tbody>\n",
       "</table>\n",
       "<p>7352 rows × 1 columns</p>\n",
       "</div>"
      ],
      "text/plain": [
       "              Activity\n",
       "0             STANDING\n",
       "1             STANDING\n",
       "2             STANDING\n",
       "3             STANDING\n",
       "4             STANDING\n",
       "...                ...\n",
       "7347  WALKING_UPSTAIRS\n",
       "7348  WALKING_UPSTAIRS\n",
       "7349  WALKING_UPSTAIRS\n",
       "7350  WALKING_UPSTAIRS\n",
       "7351  WALKING_UPSTAIRS\n",
       "\n",
       "[7352 rows x 1 columns]"
      ]
     },
     "execution_count": 10,
     "metadata": {},
     "output_type": "execute_result"
    }
   ],
   "source": [
    "y_train"
   ]
  },
  {
   "cell_type": "code",
   "execution_count": 11,
   "id": "7e5a7dcd",
   "metadata": {},
   "outputs": [],
   "source": [
    "encoder=OneHotEncoder(sparse_output=False)"
   ]
  },
  {
   "cell_type": "code",
   "execution_count": 12,
   "id": "28d20c08",
   "metadata": {},
   "outputs": [],
   "source": [
    "y_train=encoder.fit_transform(y_train)\n",
    "y_test=encoder.fit_transform(y_test)"
   ]
  },
  {
   "cell_type": "code",
   "execution_count": 13,
   "id": "4c362839",
   "metadata": {},
   "outputs": [
    {
     "data": {
      "text/plain": [
       "numpy.ndarray"
      ]
     },
     "execution_count": 13,
     "metadata": {},
     "output_type": "execute_result"
    }
   ],
   "source": [
    "type(y_train)"
   ]
  },
  {
   "cell_type": "code",
   "execution_count": 14,
   "id": "d541410e",
   "metadata": {},
   "outputs": [],
   "source": [
    "sc=StandardScaler()\n",
    "X_train=sc.fit_transform(X_train.reshape(-1, X_train.shape[-1])).reshape(X_train.shape)\n",
    "X_test=sc.fit_transform(X_test.reshape(-1, X_test.shape[-1])).reshape(X_test.shape)"
   ]
  },
  {
   "cell_type": "code",
   "execution_count": 15,
   "id": "bb5590ff",
   "metadata": {},
   "outputs": [
    {
     "data": {
      "text/plain": [
       "(7352, 128, 9)"
      ]
     },
     "execution_count": 15,
     "metadata": {},
     "output_type": "execute_result"
    }
   ],
   "source": [
    "np.shape(X_train)"
   ]
  },
  {
   "cell_type": "code",
   "execution_count": 16,
   "id": "02cce6b2",
   "metadata": {},
   "outputs": [
    {
     "data": {
      "text/plain": [
       "(2947, 128, 9)"
      ]
     },
     "execution_count": 16,
     "metadata": {},
     "output_type": "execute_result"
    }
   ],
   "source": [
    "np.shape(X_test)"
   ]
  },
  {
   "cell_type": "markdown",
   "id": "2cf7767a",
   "metadata": {},
   "source": [
    "### Building Model"
   ]
  },
  {
   "cell_type": "code",
   "execution_count": 17,
   "id": "8186538e",
   "metadata": {},
   "outputs": [],
   "source": [
    "n_timesteps, n_features, n_outputs=X_train.shape[1], X_train.shape[2], y_train.shape[1]"
   ]
  },
  {
   "cell_type": "code",
   "execution_count": 18,
   "id": "c1aa080b",
   "metadata": {},
   "outputs": [
    {
     "data": {
      "text/plain": [
       "6"
      ]
     },
     "execution_count": 18,
     "metadata": {},
     "output_type": "execute_result"
    }
   ],
   "source": [
    "n_outputs"
   ]
  },
  {
   "cell_type": "code",
   "execution_count": 19,
   "id": "e2038180",
   "metadata": {},
   "outputs": [
    {
     "data": {
      "text/plain": [
       "128"
      ]
     },
     "execution_count": 19,
     "metadata": {},
     "output_type": "execute_result"
    }
   ],
   "source": [
    "n_timesteps"
   ]
  },
  {
   "cell_type": "code",
   "execution_count": 20,
   "id": "eead603a",
   "metadata": {},
   "outputs": [
    {
     "data": {
      "text/plain": [
       "9"
      ]
     },
     "execution_count": 20,
     "metadata": {},
     "output_type": "execute_result"
    }
   ],
   "source": [
    "n_features"
   ]
  },
  {
   "cell_type": "code",
   "execution_count": 21,
   "id": "662805bf",
   "metadata": {},
   "outputs": [],
   "source": [
    "conv1d_model=tf.keras.Sequential()\n",
    "conv1d_model.add(tf.keras.layers.Conv1D(filters=70, kernel_size=3, activation='relu', input_shape=(n_timesteps, n_features), padding='same'))\n",
    "conv1d_model.add(tf.keras.layers.Conv1D(filters=70, kernel_size=3, activation='relu', padding='same'))\n",
    "conv1d_model.add(tf.keras.layers.Dropout(rate=0.5))\n",
    "conv1d_model.add(tf.keras.layers.MaxPooling1D(pool_size=1))\n",
    "conv1d_model.add(tf.keras.layers.Flatten())\n",
    "conv1d_model.add(tf.keras.layers.Dense(150, activation='relu'))\n",
    "conv1d_model.add(tf.keras.layers.Dense(n_outputs, activation='softmax'))\n",
    "\n",
    "conv1d_model.compile(loss='categorical_crossentropy', optimizer='adam', metrics=['accuracy'])"
   ]
  },
  {
   "cell_type": "code",
   "execution_count": 22,
   "id": "d492bb3b",
   "metadata": {},
   "outputs": [
    {
     "name": "stdout",
     "output_type": "stream",
     "text": [
      "Model: \"sequential\"\n",
      "_________________________________________________________________\n",
      " Layer (type)                Output Shape              Param #   \n",
      "=================================================================\n",
      " conv1d (Conv1D)             (None, 128, 70)           1960      \n",
      "                                                                 \n",
      " conv1d_1 (Conv1D)           (None, 128, 70)           14770     \n",
      "                                                                 \n",
      " dropout (Dropout)           (None, 128, 70)           0         \n",
      "                                                                 \n",
      " max_pooling1d (MaxPooling1D  (None, 128, 70)          0         \n",
      " )                                                               \n",
      "                                                                 \n",
      " flatten (Flatten)           (None, 8960)              0         \n",
      "                                                                 \n",
      " dense (Dense)               (None, 150)               1344150   \n",
      "                                                                 \n",
      " dense_1 (Dense)             (None, 6)                 906       \n",
      "                                                                 \n",
      "=================================================================\n",
      "Total params: 1,361,786\n",
      "Trainable params: 1,361,786\n",
      "Non-trainable params: 0\n",
      "_________________________________________________________________\n"
     ]
    }
   ],
   "source": [
    "conv1d_model.summary()"
   ]
  },
  {
   "cell_type": "code",
   "execution_count": 23,
   "id": "b6dd1f1e",
   "metadata": {},
   "outputs": [
    {
     "name": "stdout",
     "output_type": "stream",
     "text": [
      "Epoch 1/50\n",
      "230/230 [==============================] - 19s 25ms/step - loss: 0.2984 - accuracy: 0.8794\n",
      "Epoch 2/50\n",
      "230/230 [==============================] - 2s 10ms/step - loss: 0.1176 - accuracy: 0.9472\n",
      "Epoch 3/50\n",
      "230/230 [==============================] - 2s 9ms/step - loss: 0.0938 - accuracy: 0.9596\n",
      "Epoch 4/50\n",
      "230/230 [==============================] - 2s 9ms/step - loss: 0.0965 - accuracy: 0.9580\n",
      "Epoch 5/50\n",
      "230/230 [==============================] - 2s 9ms/step - loss: 0.0834 - accuracy: 0.9614\n",
      "Epoch 6/50\n",
      "230/230 [==============================] - 2s 9ms/step - loss: 0.0688 - accuracy: 0.9661\n",
      "Epoch 7/50\n",
      "230/230 [==============================] - 2s 9ms/step - loss: 0.0673 - accuracy: 0.9690\n",
      "Epoch 8/50\n",
      "230/230 [==============================] - 2s 9ms/step - loss: 0.0598 - accuracy: 0.9737\n",
      "Epoch 9/50\n",
      "230/230 [==============================] - 2s 8ms/step - loss: 0.0754 - accuracy: 0.9659\n",
      "Epoch 10/50\n",
      "230/230 [==============================] - 2s 9ms/step - loss: 0.0564 - accuracy: 0.9750\n",
      "Epoch 11/50\n",
      "230/230 [==============================] - 2s 8ms/step - loss: 0.0463 - accuracy: 0.9781\n",
      "Epoch 12/50\n",
      "230/230 [==============================] - 2s 7ms/step - loss: 0.0544 - accuracy: 0.9755\n",
      "Epoch 13/50\n",
      "230/230 [==============================] - 1s 4ms/step - loss: 0.0510 - accuracy: 0.9770\n",
      "Epoch 14/50\n",
      "230/230 [==============================] - 1s 4ms/step - loss: 0.0689 - accuracy: 0.9733\n",
      "Epoch 15/50\n",
      "230/230 [==============================] - 1s 4ms/step - loss: 0.0444 - accuracy: 0.9805\n",
      "Epoch 16/50\n",
      "230/230 [==============================] - 2s 8ms/step - loss: 0.0379 - accuracy: 0.9826\n",
      "Epoch 17/50\n",
      "230/230 [==============================] - 4s 19ms/step - loss: 0.0384 - accuracy: 0.9841\n",
      "Epoch 18/50\n",
      "230/230 [==============================] - 1s 4ms/step - loss: 0.0294 - accuracy: 0.9868\n",
      "Epoch 19/50\n",
      "230/230 [==============================] - 1s 4ms/step - loss: 0.0408 - accuracy: 0.9850\n",
      "Epoch 20/50\n",
      "230/230 [==============================] - 1s 4ms/step - loss: 0.0717 - accuracy: 0.9762\n",
      "Epoch 21/50\n",
      "230/230 [==============================] - 1s 4ms/step - loss: 0.0355 - accuracy: 0.9879\n",
      "Epoch 22/50\n",
      "230/230 [==============================] - 1s 4ms/step - loss: 0.0429 - accuracy: 0.9849\n",
      "Epoch 23/50\n",
      "230/230 [==============================] - 1s 4ms/step - loss: 0.0296 - accuracy: 0.9874\n",
      "Epoch 24/50\n",
      "230/230 [==============================] - 1s 3ms/step - loss: 0.0257 - accuracy: 0.9883\n",
      "Epoch 25/50\n",
      "230/230 [==============================] - 1s 3ms/step - loss: 0.0275 - accuracy: 0.9903\n",
      "Epoch 26/50\n",
      "230/230 [==============================] - 1s 4ms/step - loss: 0.0333 - accuracy: 0.9878\n",
      "Epoch 27/50\n",
      "230/230 [==============================] - 1s 4ms/step - loss: 0.0233 - accuracy: 0.9906\n",
      "Epoch 28/50\n",
      "230/230 [==============================] - 1s 3ms/step - loss: 0.0158 - accuracy: 0.9943\n",
      "Epoch 29/50\n",
      "230/230 [==============================] - 1s 3ms/step - loss: 0.0221 - accuracy: 0.9912\n",
      "Epoch 30/50\n",
      "230/230 [==============================] - 1s 3ms/step - loss: 0.0408 - accuracy: 0.9897\n",
      "Epoch 31/50\n",
      "230/230 [==============================] - 1s 3ms/step - loss: 0.0299 - accuracy: 0.9897\n",
      "Epoch 32/50\n",
      "230/230 [==============================] - 1s 3ms/step - loss: 0.0168 - accuracy: 0.9935\n",
      "Epoch 33/50\n",
      "230/230 [==============================] - 1s 3ms/step - loss: 0.0217 - accuracy: 0.9931\n",
      "Epoch 34/50\n",
      "230/230 [==============================] - 1s 3ms/step - loss: 0.0616 - accuracy: 0.9903\n",
      "Epoch 35/50\n",
      "230/230 [==============================] - 1s 3ms/step - loss: 0.0185 - accuracy: 0.9924\n",
      "Epoch 36/50\n",
      "230/230 [==============================] - 1s 3ms/step - loss: 0.0092 - accuracy: 0.9970\n",
      "Epoch 37/50\n",
      "230/230 [==============================] - 1s 3ms/step - loss: 0.0085 - accuracy: 0.9970\n",
      "Epoch 38/50\n",
      "230/230 [==============================] - 1s 4ms/step - loss: 0.0165 - accuracy: 0.9944\n",
      "Epoch 39/50\n",
      "230/230 [==============================] - 1s 3ms/step - loss: 0.0125 - accuracy: 0.9954\n",
      "Epoch 40/50\n",
      "230/230 [==============================] - 1s 3ms/step - loss: 0.0331 - accuracy: 0.9927\n",
      "Epoch 41/50\n",
      "230/230 [==============================] - 1s 3ms/step - loss: 0.0245 - accuracy: 0.9940\n",
      "Epoch 42/50\n",
      "230/230 [==============================] - 1s 4ms/step - loss: 0.0089 - accuracy: 0.9976\n",
      "Epoch 43/50\n",
      "230/230 [==============================] - 1s 4ms/step - loss: 0.0125 - accuracy: 0.9956\n",
      "Epoch 44/50\n",
      "230/230 [==============================] - 1s 4ms/step - loss: 0.0071 - accuracy: 0.9977\n",
      "Epoch 45/50\n",
      "230/230 [==============================] - 1s 3ms/step - loss: 0.0126 - accuracy: 0.9965\n",
      "Epoch 46/50\n",
      "230/230 [==============================] - 1s 3ms/step - loss: 0.0158 - accuracy: 0.9950\n",
      "Epoch 47/50\n",
      "230/230 [==============================] - 1s 4ms/step - loss: 0.0191 - accuracy: 0.9943\n",
      "Epoch 48/50\n",
      "230/230 [==============================] - 1s 4ms/step - loss: 0.0211 - accuracy: 0.9954\n",
      "Epoch 49/50\n",
      "230/230 [==============================] - 1s 4ms/step - loss: 0.0073 - accuracy: 0.9977\n",
      "Epoch 50/50\n",
      "230/230 [==============================] - 1s 4ms/step - loss: 0.0183 - accuracy: 0.9950\n"
     ]
    }
   ],
   "source": [
    "training_history=conv1d_model.fit(X_train, y_train, epochs=50, batch_size=32)"
   ]
  },
  {
   "cell_type": "code",
   "execution_count": 24,
   "id": "c15a855b",
   "metadata": {},
   "outputs": [
    {
     "name": "stdout",
     "output_type": "stream",
     "text": [
      "93/93 [==============================] - 1s 4ms/step - loss: 1.0872 - accuracy: 0.9203\n"
     ]
    }
   ],
   "source": [
    "_, accuracy=conv1d_model.evaluate(X_test, y_test, batch_size=32)"
   ]
  },
  {
   "cell_type": "code",
   "execution_count": 25,
   "id": "0f89e622",
   "metadata": {},
   "outputs": [
    {
     "data": {
      "text/plain": [
       "0.9202578663825989"
      ]
     },
     "execution_count": 25,
     "metadata": {},
     "output_type": "execute_result"
    }
   ],
   "source": [
    "accuracy"
   ]
  },
  {
   "cell_type": "code",
   "execution_count": 26,
   "id": "18d63284",
   "metadata": {},
   "outputs": [],
   "source": [
    "def model_maker(X_train, y_train, X_test, y_test):\n",
    "    n_timesteps, n_features, n_outputs=X_train.shape[1], X_train.shape[2], y_train.shape[1]\n",
    "\n",
    "    conv1d_model=tf.keras.Sequential()\n",
    "    conv1d_model.add(tf.keras.layers.Conv1D(filters=70, kernel_size=3, activation='relu', input_shape=(n_timesteps, n_features), padding='same'))\n",
    "    conv1d_model.add(tf.keras.layers.Conv1D(filters=70, kernel_size=3, activation='relu', padding='same'))\n",
    "    conv1d_model.add(tf.keras.layers.Dropout(rate=0.5))\n",
    "    conv1d_model.add(tf.keras.layers.MaxPooling1D(pool_size=1))\n",
    "    conv1d_model.add(tf.keras.layers.Flatten())\n",
    "    conv1d_model.add(tf.keras.layers.Dense(150, activation='relu'))\n",
    "    conv1d_model.add(tf.keras.layers.Dense(n_outputs, activation='softmax'))\n",
    "\n",
    "    conv1d_model.compile(loss='categorical_crossentropy', optimizer='adam', metrics=['accuracy'])\n",
    "    \n",
    "    training_history=conv1d_model.fit(X_train, y_train, epochs=50, batch_size=32, verbose=0)\n",
    "    _, accuracy=conv1d_model.evaluate(X_test, y_test, batch_size=32)\n",
    "    return accuracy"
   ]
  },
  {
   "cell_type": "code",
   "execution_count": 27,
   "id": "f80238fa",
   "metadata": {},
   "outputs": [],
   "source": [
    "def summarize_results(scores):\n",
    "    print(scores)\n",
    "    m, s = np.mean(scores), np.std(scores)\n",
    "    print('Accuracy: %.3f%% (+/-%.3f)' % (m, s))"
   ]
  },
  {
   "cell_type": "code",
   "execution_count": 28,
   "id": "007f632f",
   "metadata": {},
   "outputs": [],
   "source": [
    "def experiment(num_of_repeats, X_train, y_train, X_test, y_test):\n",
    "    scores = list()\n",
    "    for n in range(num_of_repeats):\n",
    "        score = model_maker(X_train, y_train, X_test, y_test)\n",
    "        score = score * 100.0\n",
    "        print('>#%d: %.3f' % (n+1, score))\n",
    "        scores.append(score)\n",
    "    summarize_results(scores)"
   ]
  },
  {
   "cell_type": "code",
   "execution_count": 29,
   "id": "58f64876",
   "metadata": {},
   "outputs": [
    {
     "name": "stdout",
     "output_type": "stream",
     "text": [
      "93/93 [==============================] - 0s 2ms/step - loss: 0.8228 - accuracy: 0.9243\n",
      ">#1: 92.433\n",
      "93/93 [==============================] - 0s 2ms/step - loss: 0.9167 - accuracy: 0.9216\n",
      ">#2: 92.162\n",
      "93/93 [==============================] - 0s 2ms/step - loss: 1.0886 - accuracy: 0.9223\n",
      ">#3: 92.229\n",
      "93/93 [==============================] - 0s 2ms/step - loss: 0.9654 - accuracy: 0.9203\n",
      ">#4: 92.026\n",
      "93/93 [==============================] - 0s 2ms/step - loss: 1.1443 - accuracy: 0.9114\n",
      ">#5: 91.144\n",
      "93/93 [==============================] - 0s 2ms/step - loss: 1.1817 - accuracy: 0.9182\n",
      ">#6: 91.822\n",
      "93/93 [==============================] - 0s 2ms/step - loss: 1.3549 - accuracy: 0.9223\n",
      ">#7: 92.229\n",
      "93/93 [==============================] - 0s 2ms/step - loss: 1.1838 - accuracy: 0.9430\n",
      ">#8: 94.299\n",
      "93/93 [==============================] - 0s 2ms/step - loss: 0.9929 - accuracy: 0.9284\n",
      ">#9: 92.840\n",
      "93/93 [==============================] - 0s 2ms/step - loss: 1.2270 - accuracy: 0.9067\n",
      ">#10: 90.668\n",
      "[92.43298172950745, 92.16151833534241, 92.22938418388367, 92.02578663825989, 91.14353656768799, 91.82218909263611, 92.22938418388367, 94.29928660392761, 92.840176820755, 90.66847562789917]\n",
      "Accuracy: 92.185% (+/-0.922)\n"
     ]
    }
   ],
   "source": [
    "experiment(10, X_train, y_train, X_test, y_test)"
   ]
  },
  {
   "cell_type": "code",
   "execution_count": 31,
   "id": "919d8cf1",
   "metadata": {},
   "outputs": [],
   "source": [
    "conv1d_model.save('./1D CNN Model/1D_CNN_model.h5')\n",
    "conv1d_model.save_weights(\"./1D CNN Model/1D_CNN_model_weights\")"
   ]
  },
  {
   "cell_type": "code",
   "execution_count": null,
   "id": "7ad74452",
   "metadata": {},
   "outputs": [],
   "source": []
  }
 ],
 "metadata": {
  "kernelspec": {
   "display_name": "Python 3 (ipykernel)",
   "language": "python",
   "name": "python3"
  },
  "language_info": {
   "codemirror_mode": {
    "name": "ipython",
    "version": 3
   },
   "file_extension": ".py",
   "mimetype": "text/x-python",
   "name": "python",
   "nbconvert_exporter": "python",
   "pygments_lexer": "ipython3",
   "version": "3.10.9"
  }
 },
 "nbformat": 4,
 "nbformat_minor": 5
}

{
 "cells": [
  {
   "cell_type": "code",
   "execution_count": 1,
   "id": "8c4de166",
   "metadata": {},
   "outputs": [],
   "source": [
    "import tensorflow as tf\n",
    "import numpy as np\n",
    "import matplotlib.pyplot as plt\n",
    "import pandas as pd\n",
    "from sklearn.preprocessing import OneHotEncoder\n",
    "from sklearn.preprocessing import StandardScaler"
   ]
  },
  {
   "cell_type": "markdown",
   "id": "6ad75537",
   "metadata": {},
   "source": [
    "### Data preprocessing"
   ]
  },
  {
   "cell_type": "code",
   "execution_count": 55,
   "id": "28e52963",
   "metadata": {},
   "outputs": [],
   "source": [
    "def load_file(path):\n",
    "    return pd.read_csv(path, delim_whitespace=True, header=None)\n",
    "X_train=[]\n",
    "X_train.append(load_file(\"./UCI HAR dataset/UCI HAR dataset/train/Inertial Signals/body_acc_x_train.txt\").to_numpy())\n",
    "X_train.append(load_file(\"./UCI HAR dataset/UCI HAR dataset/train/Inertial Signals/body_acc_y_train.txt\").to_numpy())\n",
    "X_train.append(load_file(\"./UCI HAR dataset/UCI HAR dataset/train/Inertial Signals/body_acc_z_train.txt\").to_numpy())\n",
    "X_train.append(load_file(\"./UCI HAR dataset/UCI HAR dataset/train/Inertial Signals/body_gyro_x_train.txt\").to_numpy())\n",
    "X_train.append(load_file(\"./UCI HAR dataset/UCI HAR dataset/train/Inertial Signals/body_gyro_y_train.txt\").to_numpy())\n",
    "X_train.append(load_file(\"./UCI HAR dataset/UCI HAR dataset/train/Inertial Signals/body_gyro_z_train.txt\").to_numpy())\n",
    "X_train.append(load_file(\"./UCI HAR dataset/UCI HAR dataset/train/Inertial Signals/total_acc_x_train.txt\").to_numpy())\n",
    "X_train.append(load_file(\"./UCI HAR dataset/UCI HAR dataset/train/Inertial Signals/total_acc_y_train.txt\").to_numpy())\n",
    "X_train.append(load_file(\"./UCI HAR dataset/UCI HAR dataset/train/Inertial Signals/total_acc_z_train.txt\").to_numpy())\n",
    "X_train=np.transpose(X_train, (1,2,0))"
   ]
  },
  {
   "cell_type": "code",
   "execution_count": 56,
   "id": "f500e2ce",
   "metadata": {},
   "outputs": [],
   "source": [
    "X_test=[]\n",
    "X_test.append(load_file(\"./UCI HAR dataset/UCI HAR dataset/test/Inertial Signals/body_acc_x_test.txt\").to_numpy())\n",
    "X_test.append(load_file(\"./UCI HAR dataset/UCI HAR dataset/test/Inertial Signals/body_acc_y_test.txt\").to_numpy())\n",
    "X_test.append(load_file(\"./UCI HAR dataset/UCI HAR dataset/test/Inertial Signals/body_acc_z_test.txt\").to_numpy())\n",
    "X_test.append(load_file(\"./UCI HAR dataset/UCI HAR dataset/test/Inertial Signals/body_gyro_x_test.txt\").to_numpy())\n",
    "X_test.append(load_file(\"./UCI HAR dataset/UCI HAR dataset/test/Inertial Signals/body_gyro_y_test.txt\").to_numpy())\n",
    "X_test.append(load_file(\"./UCI HAR dataset/UCI HAR dataset/test/Inertial Signals/body_gyro_z_test.txt\").to_numpy())\n",
    "X_test.append(load_file(\"./UCI HAR dataset/UCI HAR dataset/test/Inertial Signals/total_acc_x_test.txt\").to_numpy())\n",
    "X_test.append(load_file(\"./UCI HAR dataset/UCI HAR dataset/test/Inertial Signals/total_acc_y_test.txt\").to_numpy())\n",
    "X_test.append(load_file(\"./UCI HAR dataset/UCI HAR dataset/test/Inertial Signals/total_acc_z_test.txt\").to_numpy())\n",
    "X_test=np.transpose(X_test, (1,2,0))"
   ]
  },
  {
   "cell_type": "code",
   "execution_count": 57,
   "id": "b917d3b5",
   "metadata": {},
   "outputs": [],
   "source": [
    "y_train=pd.read_csv(\"./UCI HAR dataset/UCI HAR dataset/train/y_train.txt\", delim_whitespace=True, header=None)\n",
    "y_test=pd.read_csv(\"./UCI HAR dataset/UCI HAR dataset/test/y_test.txt\", delim_whitespace=True, header=None)"
   ]
  },
  {
   "cell_type": "code",
   "execution_count": 58,
   "id": "14975b31",
   "metadata": {},
   "outputs": [
    {
     "data": {
      "text/plain": [
       "(7352, 1)"
      ]
     },
     "execution_count": 58,
     "metadata": {},
     "output_type": "execute_result"
    }
   ],
   "source": [
    "np.shape(y_train)"
   ]
  },
  {
   "cell_type": "code",
   "execution_count": 59,
   "id": "c76ae113",
   "metadata": {},
   "outputs": [
    {
     "data": {
      "text/plain": [
       "(7352, 128, 9)"
      ]
     },
     "execution_count": 59,
     "metadata": {},
     "output_type": "execute_result"
    }
   ],
   "source": [
    "np.shape(X_train)"
   ]
  },
  {
   "cell_type": "code",
   "execution_count": 60,
   "id": "afa250c4",
   "metadata": {},
   "outputs": [],
   "source": [
    "activity_labels=pd.read_csv('./UCI HAR dataset/UCI HAR dataset/activity_labels.txt', delim_whitespace=True, header=None)"
   ]
  },
  {
   "cell_type": "code",
   "execution_count": 61,
   "id": "70ae9ad3",
   "metadata": {},
   "outputs": [
    {
     "data": {
      "text/plain": [
       "{1: 'WALKING',\n",
       " 2: 'WALKING_UPSTAIRS',\n",
       " 3: 'WALKING_DOWNSTAIRS',\n",
       " 4: 'SITTING',\n",
       " 5: 'STANDING',\n",
       " 6: 'LAYING'}"
      ]
     },
     "execution_count": 61,
     "metadata": {},
     "output_type": "execute_result"
    }
   ],
   "source": [
    "dict(activity_labels.values)"
   ]
  },
  {
   "cell_type": "code",
   "execution_count": 62,
   "id": "a135340d",
   "metadata": {},
   "outputs": [],
   "source": [
    "y_train[0]=y_train[0].map(dict(activity_labels.values))\n",
    "y_test[0]=y_test[0].map(dict(activity_labels.values))\n",
    "y_train.columns=['Activity']\n",
    "y_test.columns=['Activity']"
   ]
  },
  {
   "cell_type": "code",
   "execution_count": 64,
   "id": "695f5f96",
   "metadata": {},
   "outputs": [
    {
     "data": {
      "text/html": [
       "<div>\n",
       "<style scoped>\n",
       "    .dataframe tbody tr th:only-of-type {\n",
       "        vertical-align: middle;\n",
       "    }\n",
       "\n",
       "    .dataframe tbody tr th {\n",
       "        vertical-align: top;\n",
       "    }\n",
       "\n",
       "    .dataframe thead th {\n",
       "        text-align: right;\n",
       "    }\n",
       "</style>\n",
       "<table border=\"1\" class=\"dataframe\">\n",
       "  <thead>\n",
       "    <tr style=\"text-align: right;\">\n",
       "      <th></th>\n",
       "      <th>Activity</th>\n",
       "    </tr>\n",
       "  </thead>\n",
       "  <tbody>\n",
       "    <tr>\n",
       "      <th>0</th>\n",
       "      <td>STANDING</td>\n",
       "    </tr>\n",
       "    <tr>\n",
       "      <th>1</th>\n",
       "      <td>STANDING</td>\n",
       "    </tr>\n",
       "    <tr>\n",
       "      <th>2</th>\n",
       "      <td>STANDING</td>\n",
       "    </tr>\n",
       "    <tr>\n",
       "      <th>3</th>\n",
       "      <td>STANDING</td>\n",
       "    </tr>\n",
       "    <tr>\n",
       "      <th>4</th>\n",
       "      <td>STANDING</td>\n",
       "    </tr>\n",
       "    <tr>\n",
       "      <th>...</th>\n",
       "      <td>...</td>\n",
       "    </tr>\n",
       "    <tr>\n",
       "      <th>7347</th>\n",
       "      <td>WALKING_UPSTAIRS</td>\n",
       "    </tr>\n",
       "    <tr>\n",
       "      <th>7348</th>\n",
       "      <td>WALKING_UPSTAIRS</td>\n",
       "    </tr>\n",
       "    <tr>\n",
       "      <th>7349</th>\n",
       "      <td>WALKING_UPSTAIRS</td>\n",
       "    </tr>\n",
       "    <tr>\n",
       "      <th>7350</th>\n",
       "      <td>WALKING_UPSTAIRS</td>\n",
       "    </tr>\n",
       "    <tr>\n",
       "      <th>7351</th>\n",
       "      <td>WALKING_UPSTAIRS</td>\n",
       "    </tr>\n",
       "  </tbody>\n",
       "</table>\n",
       "<p>7352 rows × 1 columns</p>\n",
       "</div>"
      ],
      "text/plain": [
       "              Activity\n",
       "0             STANDING\n",
       "1             STANDING\n",
       "2             STANDING\n",
       "3             STANDING\n",
       "4             STANDING\n",
       "...                ...\n",
       "7347  WALKING_UPSTAIRS\n",
       "7348  WALKING_UPSTAIRS\n",
       "7349  WALKING_UPSTAIRS\n",
       "7350  WALKING_UPSTAIRS\n",
       "7351  WALKING_UPSTAIRS\n",
       "\n",
       "[7352 rows x 1 columns]"
      ]
     },
     "execution_count": 64,
     "metadata": {},
     "output_type": "execute_result"
    }
   ],
   "source": [
    "y_train"
   ]
  },
  {
   "cell_type": "code",
   "execution_count": 65,
   "id": "7e5a7dcd",
   "metadata": {},
   "outputs": [],
   "source": [
    "encoder=OneHotEncoder(sparse_output=False)"
   ]
  },
  {
   "cell_type": "code",
   "execution_count": 66,
   "id": "28d20c08",
   "metadata": {},
   "outputs": [],
   "source": [
    "y_train=encoder.fit_transform(y_train)\n",
    "y_test=encoder.fit_transform(y_test)"
   ]
  },
  {
   "cell_type": "code",
   "execution_count": 67,
   "id": "4c362839",
   "metadata": {},
   "outputs": [
    {
     "data": {
      "text/plain": [
       "numpy.ndarray"
      ]
     },
     "execution_count": 67,
     "metadata": {},
     "output_type": "execute_result"
    }
   ],
   "source": [
    "type(y_train)"
   ]
  },
  {
   "cell_type": "code",
   "execution_count": 68,
   "id": "d541410e",
   "metadata": {},
   "outputs": [],
   "source": [
    "sc=StandardScaler()\n",
    "X_train=sc.fit_transform(X_train.reshape(-1, X_train.shape[-1])).reshape(X_train.shape)\n",
    "X_test=sc.fit_transform(X_test.reshape(-1, X_test.shape[-1])).reshape(X_test.shape)"
   ]
  },
  {
   "cell_type": "code",
   "execution_count": 69,
   "id": "bb5590ff",
   "metadata": {},
   "outputs": [
    {
     "data": {
      "text/plain": [
       "(7352, 128, 9)"
      ]
     },
     "execution_count": 69,
     "metadata": {},
     "output_type": "execute_result"
    }
   ],
   "source": [
    "np.shape(X_train)"
   ]
  },
  {
   "cell_type": "code",
   "execution_count": 70,
   "id": "02cce6b2",
   "metadata": {},
   "outputs": [
    {
     "data": {
      "text/plain": [
       "(2947, 128, 9)"
      ]
     },
     "execution_count": 70,
     "metadata": {},
     "output_type": "execute_result"
    }
   ],
   "source": [
    "np.shape(X_test)"
   ]
  },
  {
   "cell_type": "markdown",
   "id": "2cf7767a",
   "metadata": {},
   "source": [
    "### Building Model"
   ]
  },
  {
   "cell_type": "code",
   "execution_count": 71,
   "id": "8186538e",
   "metadata": {},
   "outputs": [],
   "source": [
    "n_timesteps, n_features, n_outputs=X_train.shape[1], X_train.shape[2], y_train.shape[1]"
   ]
  },
  {
   "cell_type": "code",
   "execution_count": 72,
   "id": "c1aa080b",
   "metadata": {},
   "outputs": [
    {
     "data": {
      "text/plain": [
       "6"
      ]
     },
     "execution_count": 72,
     "metadata": {},
     "output_type": "execute_result"
    }
   ],
   "source": [
    "n_outputs"
   ]
  },
  {
   "cell_type": "code",
   "execution_count": 73,
   "id": "e2038180",
   "metadata": {},
   "outputs": [
    {
     "data": {
      "text/plain": [
       "128"
      ]
     },
     "execution_count": 73,
     "metadata": {},
     "output_type": "execute_result"
    }
   ],
   "source": [
    "n_timesteps"
   ]
  },
  {
   "cell_type": "code",
   "execution_count": 74,
   "id": "eead603a",
   "metadata": {},
   "outputs": [
    {
     "data": {
      "text/plain": [
       "9"
      ]
     },
     "execution_count": 74,
     "metadata": {},
     "output_type": "execute_result"
    }
   ],
   "source": [
    "n_features"
   ]
  },
  {
   "cell_type": "code",
   "execution_count": 75,
   "id": "662805bf",
   "metadata": {},
   "outputs": [],
   "source": [
    "conv1d_model=tf.keras.Sequential()\n",
    "conv1d_model.add(tf.keras.layers.Conv1D(filters=70, kernel_size=3, activation='relu', input_shape=(n_timesteps, n_features), padding='same'))\n",
    "conv1d_model.add(tf.keras.layers.Conv1D(filters=70, kernel_size=3, activation='relu', padding='same'))\n",
    "conv1d_model.add(tf.keras.layers.Dropout(rate=0.5))\n",
    "conv1d_model.add(tf.keras.layers.MaxPooling1D(pool_size=1))\n",
    "conv1d_model.add(tf.keras.layers.Flatten())\n",
    "conv1d_model.add(tf.keras.layers.Dense(150, activation='relu'))\n",
    "conv1d_model.add(tf.keras.layers.Dense(n_outputs, activation='softmax'))\n",
    "\n",
    "conv1d_model.compile(loss='categorical_crossentropy', optimizer='adam', metrics=['accuracy'])"
   ]
  },
  {
   "cell_type": "code",
   "execution_count": 76,
   "id": "d492bb3b",
   "metadata": {},
   "outputs": [
    {
     "name": "stdout",
     "output_type": "stream",
     "text": [
      "Model: \"sequential\"\n",
      "_________________________________________________________________\n",
      " Layer (type)                Output Shape              Param #   \n",
      "=================================================================\n",
      " conv1d (Conv1D)             (None, 128, 70)           1960      \n",
      "                                                                 \n",
      " conv1d_1 (Conv1D)           (None, 128, 70)           14770     \n",
      "                                                                 \n",
      " dropout (Dropout)           (None, 128, 70)           0         \n",
      "                                                                 \n",
      " max_pooling1d (MaxPooling1D  (None, 128, 70)          0         \n",
      " )                                                               \n",
      "                                                                 \n",
      " flatten (Flatten)           (None, 8960)              0         \n",
      "                                                                 \n",
      " dense (Dense)               (None, 150)               1344150   \n",
      "                                                                 \n",
      " dense_1 (Dense)             (None, 6)                 906       \n",
      "                                                                 \n",
      "=================================================================\n",
      "Total params: 1,361,786\n",
      "Trainable params: 1,361,786\n",
      "Non-trainable params: 0\n",
      "_________________________________________________________________\n"
     ]
    }
   ],
   "source": [
    "conv1d_model.summary()"
   ]
  },
  {
   "cell_type": "code",
   "execution_count": 77,
   "id": "b6dd1f1e",
   "metadata": {},
   "outputs": [
    {
     "name": "stdout",
     "output_type": "stream",
     "text": [
      "Epoch 1/50\n",
      "230/230 [==============================] - 7s 6ms/step - loss: 0.2860 - accuracy: 0.8885\n",
      "Epoch 2/50\n",
      "230/230 [==============================] - 1s 4ms/step - loss: 0.1099 - accuracy: 0.9540\n",
      "Epoch 3/50\n",
      "230/230 [==============================] - 1s 4ms/step - loss: 0.0944 - accuracy: 0.9595\n",
      "Epoch 4/50\n",
      "230/230 [==============================] - 1s 4ms/step - loss: 0.0875 - accuracy: 0.9610\n",
      "Epoch 5/50\n",
      "230/230 [==============================] - 1s 4ms/step - loss: 0.0810 - accuracy: 0.9663\n",
      "Epoch 6/50\n",
      "230/230 [==============================] - 1s 4ms/step - loss: 0.0702 - accuracy: 0.9695\n",
      "Epoch 7/50\n",
      "230/230 [==============================] - 1s 4ms/step - loss: 0.0720 - accuracy: 0.9676\n",
      "Epoch 8/50\n",
      "230/230 [==============================] - 1s 4ms/step - loss: 0.0775 - accuracy: 0.9674\n",
      "Epoch 9/50\n",
      "230/230 [==============================] - 1s 4ms/step - loss: 0.0543 - accuracy: 0.9751\n",
      "Epoch 10/50\n",
      "230/230 [==============================] - 1s 4ms/step - loss: 0.0569 - accuracy: 0.9758\n",
      "Epoch 11/50\n",
      "230/230 [==============================] - 1s 4ms/step - loss: 0.0478 - accuracy: 0.9795\n",
      "Epoch 12/50\n",
      "230/230 [==============================] - 1s 4ms/step - loss: 0.0667 - accuracy: 0.9697\n",
      "Epoch 13/50\n",
      "230/230 [==============================] - 1s 4ms/step - loss: 0.0707 - accuracy: 0.9729\n",
      "Epoch 14/50\n",
      "230/230 [==============================] - 1s 4ms/step - loss: 0.0483 - accuracy: 0.9791\n",
      "Epoch 15/50\n",
      "230/230 [==============================] - 1s 4ms/step - loss: 0.0372 - accuracy: 0.9827\n",
      "Epoch 16/50\n",
      "230/230 [==============================] - 1s 4ms/step - loss: 0.0321 - accuracy: 0.9859\n",
      "Epoch 17/50\n",
      "230/230 [==============================] - 1s 4ms/step - loss: 0.0351 - accuracy: 0.9849\n",
      "Epoch 18/50\n",
      "230/230 [==============================] - 1s 4ms/step - loss: 0.0378 - accuracy: 0.9833\n",
      "Epoch 19/50\n",
      "230/230 [==============================] - 1s 4ms/step - loss: 0.0600 - accuracy: 0.9814\n",
      "Epoch 20/50\n",
      "230/230 [==============================] - 1s 4ms/step - loss: 0.0340 - accuracy: 0.9864\n",
      "Epoch 21/50\n",
      "230/230 [==============================] - 1s 4ms/step - loss: 0.0263 - accuracy: 0.9891\n",
      "Epoch 22/50\n",
      "230/230 [==============================] - 1s 4ms/step - loss: 0.0275 - accuracy: 0.9887\n",
      "Epoch 23/50\n",
      "230/230 [==============================] - 1s 4ms/step - loss: 0.0396 - accuracy: 0.9844\n",
      "Epoch 24/50\n",
      "230/230 [==============================] - 1s 4ms/step - loss: 0.0345 - accuracy: 0.9871\n",
      "Epoch 25/50\n",
      "230/230 [==============================] - 1s 4ms/step - loss: 0.0219 - accuracy: 0.9912\n",
      "Epoch 26/50\n",
      "230/230 [==============================] - 1s 4ms/step - loss: 0.0207 - accuracy: 0.9914\n",
      "Epoch 27/50\n",
      "230/230 [==============================] - 1s 4ms/step - loss: 0.0199 - accuracy: 0.9924\n",
      "Epoch 28/50\n",
      "230/230 [==============================] - 1s 4ms/step - loss: 0.0518 - accuracy: 0.9857\n",
      "Epoch 29/50\n",
      "230/230 [==============================] - 1s 4ms/step - loss: 0.0435 - accuracy: 0.9863\n",
      "Epoch 30/50\n",
      "230/230 [==============================] - 1s 4ms/step - loss: 0.0197 - accuracy: 0.9922\n",
      "Epoch 31/50\n",
      "230/230 [==============================] - 1s 4ms/step - loss: 0.0262 - accuracy: 0.9908\n",
      "Epoch 32/50\n",
      "230/230 [==============================] - 1s 4ms/step - loss: 0.0141 - accuracy: 0.9948\n",
      "Epoch 33/50\n",
      "230/230 [==============================] - 1s 4ms/step - loss: 0.0231 - accuracy: 0.9924\n",
      "Epoch 34/50\n",
      "230/230 [==============================] - 1s 4ms/step - loss: 0.0219 - accuracy: 0.9925\n",
      "Epoch 35/50\n",
      "230/230 [==============================] - 1s 4ms/step - loss: 0.0247 - accuracy: 0.9906\n",
      "Epoch 36/50\n",
      "230/230 [==============================] - 1s 4ms/step - loss: 0.0147 - accuracy: 0.9946\n",
      "Epoch 37/50\n",
      "230/230 [==============================] - 1s 4ms/step - loss: 0.0137 - accuracy: 0.9939\n",
      "Epoch 38/50\n",
      "230/230 [==============================] - 1s 4ms/step - loss: 0.0183 - accuracy: 0.9940\n",
      "Epoch 39/50\n",
      "230/230 [==============================] - 1s 4ms/step - loss: 0.0353 - accuracy: 0.9888\n",
      "Epoch 40/50\n",
      "230/230 [==============================] - 1s 4ms/step - loss: 0.0440 - accuracy: 0.9918\n",
      "Epoch 41/50\n",
      "230/230 [==============================] - 1s 4ms/step - loss: 0.0138 - accuracy: 0.9951\n",
      "Epoch 42/50\n",
      "230/230 [==============================] - 1s 4ms/step - loss: 0.0157 - accuracy: 0.9948\n",
      "Epoch 43/50\n",
      "230/230 [==============================] - 1s 4ms/step - loss: 0.0129 - accuracy: 0.9955\n",
      "Epoch 44/50\n",
      "230/230 [==============================] - 1s 4ms/step - loss: 0.0125 - accuracy: 0.9944\n",
      "Epoch 45/50\n",
      "230/230 [==============================] - 1s 4ms/step - loss: 0.0202 - accuracy: 0.9940\n",
      "Epoch 46/50\n",
      "230/230 [==============================] - 1s 4ms/step - loss: 0.0081 - accuracy: 0.9973\n",
      "Epoch 47/50\n",
      "230/230 [==============================] - 1s 4ms/step - loss: 0.0202 - accuracy: 0.9936\n",
      "Epoch 48/50\n",
      "230/230 [==============================] - 1s 4ms/step - loss: 0.0115 - accuracy: 0.9965\n",
      "Epoch 49/50\n",
      "230/230 [==============================] - 1s 4ms/step - loss: 0.0157 - accuracy: 0.9951\n",
      "Epoch 50/50\n",
      "230/230 [==============================] - 1s 4ms/step - loss: 0.0089 - accuracy: 0.9962\n"
     ]
    }
   ],
   "source": [
    "training_history=conv1d_model.fit(X_train, y_train, epochs=50, batch_size=32)"
   ]
  },
  {
   "cell_type": "code",
   "execution_count": 78,
   "id": "c15a855b",
   "metadata": {},
   "outputs": [
    {
     "name": "stdout",
     "output_type": "stream",
     "text": [
      "93/93 [==============================] - 1s 4ms/step - loss: 1.3827 - accuracy: 0.9230\n"
     ]
    }
   ],
   "source": [
    "_, accuracy=conv1d_model.evaluate(X_test, y_test, batch_size=32)"
   ]
  },
  {
   "cell_type": "code",
   "execution_count": 79,
   "id": "0f89e622",
   "metadata": {},
   "outputs": [
    {
     "data": {
      "text/plain": [
       "0.9229725003242493"
      ]
     },
     "execution_count": 79,
     "metadata": {},
     "output_type": "execute_result"
    }
   ],
   "source": [
    "accuracy"
   ]
  },
  {
   "cell_type": "code",
   "execution_count": 80,
   "id": "18d63284",
   "metadata": {},
   "outputs": [],
   "source": [
    "def model_maker(X_train, y_train, X_test, y_test):\n",
    "    n_timesteps, n_features, n_outputs=X_train.shape[1], X_train.shape[2], y_train.shape[1]\n",
    "\n",
    "    conv1d_model=tf.keras.Sequential()\n",
    "    conv1d_model.add(tf.keras.layers.Conv1D(filters=70, kernel_size=3, activation='relu', input_shape=(n_timesteps, n_features), padding='same'))\n",
    "    conv1d_model.add(tf.keras.layers.Conv1D(filters=70, kernel_size=3, activation='relu', padding='same'))\n",
    "    conv1d_model.add(tf.keras.layers.Dropout(rate=0.5))\n",
    "    conv1d_model.add(tf.keras.layers.MaxPooling1D(pool_size=1))\n",
    "    conv1d_model.add(tf.keras.layers.Flatten())\n",
    "    conv1d_model.add(tf.keras.layers.Dense(150, activation='relu'))\n",
    "    conv1d_model.add(tf.keras.layers.Dense(n_outputs, activation='softmax'))\n",
    "\n",
    "    conv1d_model.compile(loss='categorical_crossentropy', optimizer='adam', metrics=['accuracy'])\n",
    "    \n",
    "    training_history=conv1d_model.fit(X_train, y_train, epochs=50, batch_size=32, verbose=0)\n",
    "    _, accuracy=conv1d_model.evaluate(X_test, y_test, batch_size=32)\n",
    "    return accuracy"
   ]
  },
  {
   "cell_type": "code",
   "execution_count": 81,
   "id": "f80238fa",
   "metadata": {},
   "outputs": [],
   "source": [
    "def summarize_results(scores):\n",
    "    print(scores)\n",
    "    m, s = np.mean(scores), np.std(scores)\n",
    "    print('Accuracy: %.3f%% (+/-%.3f)' % (m, s))"
   ]
  },
  {
   "cell_type": "code",
   "execution_count": 82,
   "id": "007f632f",
   "metadata": {},
   "outputs": [],
   "source": [
    "def experiment(num_of_repeats, X_train, y_train, X_test, y_test):\n",
    "    scores = list()\n",
    "    for n in range(num_of_repeats):\n",
    "        score = model_maker(X_train, y_train, X_test, y_test)\n",
    "        score = score * 100.0\n",
    "        print('>#%d: %.3f' % (n+1, score))\n",
    "        scores.append(score)\n",
    "    summarize_results(scores)"
   ]
  },
  {
   "cell_type": "code",
   "execution_count": 83,
   "id": "58f64876",
   "metadata": {},
   "outputs": [
    {
     "name": "stdout",
     "output_type": "stream",
     "text": [
      "93/93 [==============================] - 0s 3ms/step - loss: 0.8408 - accuracy: 0.9281\n",
      ">#1: 92.806\n",
      "93/93 [==============================] - 0s 3ms/step - loss: 0.8400 - accuracy: 0.9175\n",
      ">#2: 91.754\n",
      "93/93 [==============================] - 0s 3ms/step - loss: 1.4059 - accuracy: 0.9192\n",
      ">#3: 91.924\n",
      "93/93 [==============================] - 0s 3ms/step - loss: 0.8183 - accuracy: 0.9355\n",
      ">#4: 93.553\n",
      "93/93 [==============================] - 0s 3ms/step - loss: 0.9263 - accuracy: 0.9284\n",
      ">#5: 92.840\n",
      "93/93 [==============================] - 0s 3ms/step - loss: 1.1949 - accuracy: 0.9182\n",
      ">#6: 91.822\n",
      "93/93 [==============================] - 0s 3ms/step - loss: 0.9487 - accuracy: 0.9257\n",
      ">#7: 92.569\n",
      "93/93 [==============================] - 0s 3ms/step - loss: 0.8944 - accuracy: 0.9216\n",
      ">#8: 92.162\n",
      "93/93 [==============================] - 0s 3ms/step - loss: 1.4471 - accuracy: 0.9247\n",
      ">#9: 92.467\n",
      "93/93 [==============================] - 0s 2ms/step - loss: 0.7365 - accuracy: 0.9270\n",
      ">#10: 92.704\n",
      "[92.80624389648438, 91.75432920455933, 91.923987865448, 93.55276823043823, 92.840176820755, 91.82218909263611, 92.56871342658997, 92.16151833534241, 92.46691465377808, 92.70444512367249]\n",
      "Accuracy: 92.460% (+/-0.530)\n"
     ]
    }
   ],
   "source": [
    "experiment(10, X_train, y_train, X_test, y_test)"
   ]
  },
  {
   "cell_type": "code",
   "execution_count": null,
   "id": "919d8cf1",
   "metadata": {},
   "outputs": [],
   "source": []
  }
 ],
 "metadata": {
  "kernelspec": {
   "display_name": "Python 3 (ipykernel)",
   "language": "python",
   "name": "python3"
  },
  "language_info": {
   "codemirror_mode": {
    "name": "ipython",
    "version": 3
   },
   "file_extension": ".py",
   "mimetype": "text/x-python",
   "name": "python",
   "nbconvert_exporter": "python",
   "pygments_lexer": "ipython3",
   "version": "3.10.9"
  }
 },
 "nbformat": 4,
 "nbformat_minor": 5
}

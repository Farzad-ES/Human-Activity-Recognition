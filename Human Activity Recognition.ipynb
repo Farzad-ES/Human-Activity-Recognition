{
 "cells": [
  {
   "cell_type": "code",
   "execution_count": 1,
   "id": "8c4de166",
   "metadata": {},
   "outputs": [],
   "source": [
    "import tensorflow as tf\n",
    "import numpy as np\n",
    "import matplotlib.pyplot as plt\n",
    "import pandas as pd\n",
    "from sklearn.preprocessing import OneHotEncoder\n",
    "from sklearn.preprocessing import StandardScaler"
   ]
  },
  {
   "cell_type": "markdown",
   "id": "6ad75537",
   "metadata": {},
   "source": [
    "### Data preprocessing"
   ]
  },
  {
   "cell_type": "code",
   "execution_count": 43,
   "id": "28e52963",
   "metadata": {},
   "outputs": [],
   "source": [
    "def load_file(path):\n",
    "    return pd.read_csv(path, delim_whitespace=True, header=None)\n",
    "X_train=[]\n",
    "X_train.append(load_file(\"./UCI HAR dataset/UCI HAR dataset/train/Inertial Signals/body_acc_x_train.txt\").to_numpy())\n",
    "X_train.append(load_file(\"./UCI HAR dataset/UCI HAR dataset/train/Inertial Signals/body_acc_y_train.txt\").to_numpy())\n",
    "X_train.append(load_file(\"./UCI HAR dataset/UCI HAR dataset/train/Inertial Signals/body_acc_z_train.txt\").to_numpy())\n",
    "X_train.append(load_file(\"./UCI HAR dataset/UCI HAR dataset/train/Inertial Signals/body_gyro_x_train.txt\").to_numpy())\n",
    "X_train.append(load_file(\"./UCI HAR dataset/UCI HAR dataset/train/Inertial Signals/body_gyro_y_train.txt\").to_numpy())\n",
    "X_train.append(load_file(\"./UCI HAR dataset/UCI HAR dataset/train/Inertial Signals/body_gyro_z_train.txt\").to_numpy())\n",
    "X_train.append(load_file(\"./UCI HAR dataset/UCI HAR dataset/train/Inertial Signals/total_acc_x_train.txt\").to_numpy())\n",
    "X_train.append(load_file(\"./UCI HAR dataset/UCI HAR dataset/train/Inertial Signals/total_acc_y_train.txt\").to_numpy())\n",
    "X_train.append(load_file(\"./UCI HAR dataset/UCI HAR dataset/train/Inertial Signals/total_acc_z_train.txt\").to_numpy())\n",
    "X_train=np.transpose(X_train, (1,2,0))"
   ]
  },
  {
   "cell_type": "code",
   "execution_count": 45,
   "id": "f500e2ce",
   "metadata": {},
   "outputs": [],
   "source": [
    "X_test=[]\n",
    "X_test.append(load_file(\"./UCI HAR dataset/UCI HAR dataset/test/Inertial Signals/body_acc_x_test.txt\").to_numpy())\n",
    "X_test.append(load_file(\"./UCI HAR dataset/UCI HAR dataset/test/Inertial Signals/body_acc_y_test.txt\").to_numpy())\n",
    "X_test.append(load_file(\"./UCI HAR dataset/UCI HAR dataset/test/Inertial Signals/body_acc_z_test.txt\").to_numpy())\n",
    "X_test.append(load_file(\"./UCI HAR dataset/UCI HAR dataset/test/Inertial Signals/body_gyro_x_test.txt\").to_numpy())\n",
    "X_test.append(load_file(\"./UCI HAR dataset/UCI HAR dataset/test/Inertial Signals/body_gyro_y_test.txt\").to_numpy())\n",
    "X_test.append(load_file(\"./UCI HAR dataset/UCI HAR dataset/test/Inertial Signals/body_gyro_z_test.txt\").to_numpy())\n",
    "X_test.append(load_file(\"./UCI HAR dataset/UCI HAR dataset/test/Inertial Signals/total_acc_x_test.txt\").to_numpy())\n",
    "X_test.append(load_file(\"./UCI HAR dataset/UCI HAR dataset/test/Inertial Signals/total_acc_y_test.txt\").to_numpy())\n",
    "X_test.append(load_file(\"./UCI HAR dataset/UCI HAR dataset/test/Inertial Signals/total_acc_z_test.txt\").to_numpy())\n",
    "X_test=np.transpose(X_test, (1,2,0))"
   ]
  },
  {
   "cell_type": "code",
   "execution_count": 2,
   "id": "b917d3b5",
   "metadata": {},
   "outputs": [],
   "source": [
    "y_train=pd.read_csv(\"./UCI HAR dataset/UCI HAR dataset/train/y_train.txt\", delim_whitespace=True, header=None)\n",
    "y_test=pd.read_csv(\"./UCI HAR dataset/UCI HAR dataset/test/y_test.txt\", delim_whitespace=True, header=None)"
   ]
  },
  {
   "cell_type": "code",
   "execution_count": 44,
   "id": "c76ae113",
   "metadata": {},
   "outputs": [
    {
     "data": {
      "text/plain": [
       "(7352, 128, 9)"
      ]
     },
     "execution_count": 44,
     "metadata": {},
     "output_type": "execute_result"
    }
   ],
   "source": [
    "np.shape(X_train)"
   ]
  },
  {
   "cell_type": "code",
   "execution_count": 8,
   "id": "afa250c4",
   "metadata": {},
   "outputs": [],
   "source": [
    "activity_labels=pd.read_csv('./UCI HAR dataset/UCI HAR dataset/activity_labels.txt', delim_whitespace=True, header=None)"
   ]
  },
  {
   "cell_type": "code",
   "execution_count": 9,
   "id": "70ae9ad3",
   "metadata": {},
   "outputs": [
    {
     "data": {
      "text/plain": [
       "{1: 'WALKING',\n",
       " 2: 'WALKING_UPSTAIRS',\n",
       " 3: 'WALKING_DOWNSTAIRS',\n",
       " 4: 'SITTING',\n",
       " 5: 'STANDING',\n",
       " 6: 'LAYING'}"
      ]
     },
     "execution_count": 9,
     "metadata": {},
     "output_type": "execute_result"
    }
   ],
   "source": [
    "dict(activity_labels.values)"
   ]
  },
  {
   "cell_type": "code",
   "execution_count": 10,
   "id": "a135340d",
   "metadata": {},
   "outputs": [],
   "source": [
    "y_train[0]=y_train[0].map(dict(activity_labels.values))\n",
    "y_test[0]=y_test[0].map(dict(activity_labels.values))\n",
    "y_train.columns=['Activity']\n",
    "y_test.columns=['Activity']"
   ]
  },
  {
   "cell_type": "code",
   "execution_count": 11,
   "id": "695f5f96",
   "metadata": {},
   "outputs": [
    {
     "data": {
      "text/html": [
       "<div>\n",
       "<style scoped>\n",
       "    .dataframe tbody tr th:only-of-type {\n",
       "        vertical-align: middle;\n",
       "    }\n",
       "\n",
       "    .dataframe tbody tr th {\n",
       "        vertical-align: top;\n",
       "    }\n",
       "\n",
       "    .dataframe thead th {\n",
       "        text-align: right;\n",
       "    }\n",
       "</style>\n",
       "<table border=\"1\" class=\"dataframe\">\n",
       "  <thead>\n",
       "    <tr style=\"text-align: right;\">\n",
       "      <th></th>\n",
       "      <th>Activity</th>\n",
       "    </tr>\n",
       "  </thead>\n",
       "  <tbody>\n",
       "    <tr>\n",
       "      <th>0</th>\n",
       "      <td>STANDING</td>\n",
       "    </tr>\n",
       "    <tr>\n",
       "      <th>1</th>\n",
       "      <td>STANDING</td>\n",
       "    </tr>\n",
       "    <tr>\n",
       "      <th>2</th>\n",
       "      <td>STANDING</td>\n",
       "    </tr>\n",
       "    <tr>\n",
       "      <th>3</th>\n",
       "      <td>STANDING</td>\n",
       "    </tr>\n",
       "    <tr>\n",
       "      <th>4</th>\n",
       "      <td>STANDING</td>\n",
       "    </tr>\n",
       "    <tr>\n",
       "      <th>...</th>\n",
       "      <td>...</td>\n",
       "    </tr>\n",
       "    <tr>\n",
       "      <th>7347</th>\n",
       "      <td>WALKING_UPSTAIRS</td>\n",
       "    </tr>\n",
       "    <tr>\n",
       "      <th>7348</th>\n",
       "      <td>WALKING_UPSTAIRS</td>\n",
       "    </tr>\n",
       "    <tr>\n",
       "      <th>7349</th>\n",
       "      <td>WALKING_UPSTAIRS</td>\n",
       "    </tr>\n",
       "    <tr>\n",
       "      <th>7350</th>\n",
       "      <td>WALKING_UPSTAIRS</td>\n",
       "    </tr>\n",
       "    <tr>\n",
       "      <th>7351</th>\n",
       "      <td>WALKING_UPSTAIRS</td>\n",
       "    </tr>\n",
       "  </tbody>\n",
       "</table>\n",
       "<p>7352 rows × 1 columns</p>\n",
       "</div>"
      ],
      "text/plain": [
       "              Activity\n",
       "0             STANDING\n",
       "1             STANDING\n",
       "2             STANDING\n",
       "3             STANDING\n",
       "4             STANDING\n",
       "...                ...\n",
       "7347  WALKING_UPSTAIRS\n",
       "7348  WALKING_UPSTAIRS\n",
       "7349  WALKING_UPSTAIRS\n",
       "7350  WALKING_UPSTAIRS\n",
       "7351  WALKING_UPSTAIRS\n",
       "\n",
       "[7352 rows x 1 columns]"
      ]
     },
     "execution_count": 11,
     "metadata": {},
     "output_type": "execute_result"
    }
   ],
   "source": [
    "y_train"
   ]
  },
  {
   "cell_type": "code",
   "execution_count": 16,
   "id": "7e5a7dcd",
   "metadata": {},
   "outputs": [],
   "source": [
    "encoder=OneHotEncoder(sparse_output=False)"
   ]
  },
  {
   "cell_type": "code",
   "execution_count": 17,
   "id": "28d20c08",
   "metadata": {},
   "outputs": [],
   "source": [
    "y_train=encoder.fit_transform(y_train)\n",
    "y_test=encoder.fit_transform(y_test)"
   ]
  },
  {
   "cell_type": "code",
   "execution_count": 46,
   "id": "bb5590ff",
   "metadata": {},
   "outputs": [
    {
     "data": {
      "text/plain": [
       "(7352, 128, 9)"
      ]
     },
     "execution_count": 46,
     "metadata": {},
     "output_type": "execute_result"
    }
   ],
   "source": [
    "np.shape(X_train)"
   ]
  },
  {
   "cell_type": "code",
   "execution_count": 47,
   "id": "02cce6b2",
   "metadata": {},
   "outputs": [
    {
     "data": {
      "text/plain": [
       "(2947, 128, 9)"
      ]
     },
     "execution_count": 47,
     "metadata": {},
     "output_type": "execute_result"
    }
   ],
   "source": [
    "np.shape(X_test)"
   ]
  },
  {
   "cell_type": "markdown",
   "id": "2cf7767a",
   "metadata": {},
   "source": [
    "### Building Model"
   ]
  },
  {
   "cell_type": "code",
   "execution_count": 48,
   "id": "8186538e",
   "metadata": {},
   "outputs": [],
   "source": [
    "n_timesteps, n_features, n_outputs=X_train.shape[1], X_train.shape[2], y_train.shape[1]"
   ]
  },
  {
   "cell_type": "code",
   "execution_count": 49,
   "id": "c1aa080b",
   "metadata": {},
   "outputs": [
    {
     "data": {
      "text/plain": [
       "6"
      ]
     },
     "execution_count": 49,
     "metadata": {},
     "output_type": "execute_result"
    }
   ],
   "source": [
    "n_outputs"
   ]
  },
  {
   "cell_type": "code",
   "execution_count": 50,
   "id": "e2038180",
   "metadata": {},
   "outputs": [
    {
     "data": {
      "text/plain": [
       "128"
      ]
     },
     "execution_count": 50,
     "metadata": {},
     "output_type": "execute_result"
    }
   ],
   "source": [
    "n_timesteps"
   ]
  },
  {
   "cell_type": "code",
   "execution_count": 51,
   "id": "eead603a",
   "metadata": {},
   "outputs": [
    {
     "data": {
      "text/plain": [
       "9"
      ]
     },
     "execution_count": 51,
     "metadata": {},
     "output_type": "execute_result"
    }
   ],
   "source": [
    "n_features"
   ]
  },
  {
   "cell_type": "code",
   "execution_count": 52,
   "id": "662805bf",
   "metadata": {},
   "outputs": [],
   "source": [
    "conv1d_model=tf.keras.Sequential()\n",
    "conv1d_model.add(tf.keras.layers.Conv1D(filters=70, kernel_size=3, activation='relu', input_shape=(n_timesteps, n_features), padding='same'))\n",
    "conv1d_model.add(tf.keras.layers.Conv1D(filters=70, kernel_size=3, activation='relu', padding='same'))\n",
    "conv1d_model.add(tf.keras.layers.Dropout(rate=0.5))\n",
    "conv1d_model.add(tf.keras.layers.MaxPooling1D(pool_size=1))\n",
    "conv1d_model.add(tf.keras.layers.Flatten())\n",
    "conv1d_model.add(tf.keras.layers.Dense(150, activation='relu'))\n",
    "conv1d_model.add(tf.keras.layers.Dense(n_outputs, activation='softmax'))\n",
    "\n",
    "conv1d_model.compile(loss='categorical_crossentropy', optimizer='adam', metrics=['accuracy'])"
   ]
  },
  {
   "cell_type": "code",
   "execution_count": 53,
   "id": "d492bb3b",
   "metadata": {},
   "outputs": [
    {
     "name": "stdout",
     "output_type": "stream",
     "text": [
      "Model: \"sequential_11\"\n",
      "_________________________________________________________________\n",
      " Layer (type)                Output Shape              Param #   \n",
      "=================================================================\n",
      " conv1d_22 (Conv1D)          (None, 128, 70)           1960      \n",
      "                                                                 \n",
      " conv1d_23 (Conv1D)          (None, 128, 70)           14770     \n",
      "                                                                 \n",
      " dropout_11 (Dropout)        (None, 128, 70)           0         \n",
      "                                                                 \n",
      " max_pooling1d_11 (MaxPoolin  (None, 128, 70)          0         \n",
      " g1D)                                                            \n",
      "                                                                 \n",
      " flatten_11 (Flatten)        (None, 8960)              0         \n",
      "                                                                 \n",
      " dense_22 (Dense)            (None, 150)               1344150   \n",
      "                                                                 \n",
      " dense_23 (Dense)            (None, 6)                 906       \n",
      "                                                                 \n",
      "=================================================================\n",
      "Total params: 1,361,786\n",
      "Trainable params: 1,361,786\n",
      "Non-trainable params: 0\n",
      "_________________________________________________________________\n"
     ]
    }
   ],
   "source": [
    "conv1d_model.summary()"
   ]
  },
  {
   "cell_type": "code",
   "execution_count": 54,
   "id": "b6dd1f1e",
   "metadata": {},
   "outputs": [
    {
     "name": "stdout",
     "output_type": "stream",
     "text": [
      "Epoch 1/50\n",
      "230/230 [==============================] - 3s 6ms/step - loss: 0.3666 - accuracy: 0.8526\n",
      "Epoch 2/50\n",
      "230/230 [==============================] - 1s 4ms/step - loss: 0.1384 - accuracy: 0.9442\n",
      "Epoch 3/50\n",
      "230/230 [==============================] - 1s 4ms/step - loss: 0.1131 - accuracy: 0.9516\n",
      "Epoch 4/50\n",
      "230/230 [==============================] - 1s 4ms/step - loss: 0.1215 - accuracy: 0.9491\n",
      "Epoch 5/50\n",
      "230/230 [==============================] - 1s 4ms/step - loss: 0.1258 - accuracy: 0.9476\n",
      "Epoch 6/50\n",
      "230/230 [==============================] - 1s 4ms/step - loss: 0.0983 - accuracy: 0.9573\n",
      "Epoch 7/50\n",
      "230/230 [==============================] - 1s 4ms/step - loss: 0.1135 - accuracy: 0.9535\n",
      "Epoch 8/50\n",
      "230/230 [==============================] - 1s 4ms/step - loss: 0.0840 - accuracy: 0.9612\n",
      "Epoch 9/50\n",
      "230/230 [==============================] - 1s 4ms/step - loss: 0.0774 - accuracy: 0.9638\n",
      "Epoch 10/50\n",
      "230/230 [==============================] - 1s 4ms/step - loss: 0.0757 - accuracy: 0.9650\n",
      "Epoch 11/50\n",
      "230/230 [==============================] - 1s 4ms/step - loss: 0.0697 - accuracy: 0.9682\n",
      "Epoch 12/50\n",
      "230/230 [==============================] - 1s 4ms/step - loss: 0.0856 - accuracy: 0.9604\n",
      "Epoch 13/50\n",
      "230/230 [==============================] - 1s 4ms/step - loss: 0.0649 - accuracy: 0.9716\n",
      "Epoch 14/50\n",
      "230/230 [==============================] - 1s 4ms/step - loss: 0.0697 - accuracy: 0.9689\n",
      "Epoch 15/50\n",
      "230/230 [==============================] - 1s 4ms/step - loss: 0.0896 - accuracy: 0.9660\n",
      "Epoch 16/50\n",
      "230/230 [==============================] - 1s 4ms/step - loss: 0.0586 - accuracy: 0.9714\n",
      "Epoch 17/50\n",
      "230/230 [==============================] - 1s 4ms/step - loss: 0.0625 - accuracy: 0.9717\n",
      "Epoch 18/50\n",
      "230/230 [==============================] - 1s 4ms/step - loss: 0.0591 - accuracy: 0.9717\n",
      "Epoch 19/50\n",
      "230/230 [==============================] - 1s 4ms/step - loss: 0.0551 - accuracy: 0.9755\n",
      "Epoch 20/50\n",
      "230/230 [==============================] - 1s 4ms/step - loss: 0.0498 - accuracy: 0.9758\n",
      "Epoch 21/50\n",
      "230/230 [==============================] - 1s 4ms/step - loss: 0.0512 - accuracy: 0.9762\n",
      "Epoch 22/50\n",
      "230/230 [==============================] - 1s 4ms/step - loss: 0.0564 - accuracy: 0.9763\n",
      "Epoch 23/50\n",
      "230/230 [==============================] - 1s 4ms/step - loss: 0.0665 - accuracy: 0.9697\n",
      "Epoch 24/50\n",
      "230/230 [==============================] - 1s 4ms/step - loss: 0.0502 - accuracy: 0.9773\n",
      "Epoch 25/50\n",
      "230/230 [==============================] - 1s 4ms/step - loss: 0.0497 - accuracy: 0.9765\n",
      "Epoch 26/50\n",
      "230/230 [==============================] - 1s 4ms/step - loss: 0.0506 - accuracy: 0.9747\n",
      "Epoch 27/50\n",
      "230/230 [==============================] - 1s 4ms/step - loss: 0.0415 - accuracy: 0.9797\n",
      "Epoch 28/50\n",
      "230/230 [==============================] - 1s 4ms/step - loss: 0.0475 - accuracy: 0.9780\n",
      "Epoch 29/50\n",
      "230/230 [==============================] - 1s 4ms/step - loss: 0.0385 - accuracy: 0.9810\n",
      "Epoch 30/50\n",
      "230/230 [==============================] - 1s 4ms/step - loss: 0.0377 - accuracy: 0.9825\n",
      "Epoch 31/50\n",
      "230/230 [==============================] - 1s 4ms/step - loss: 0.0383 - accuracy: 0.9827\n",
      "Epoch 32/50\n",
      "230/230 [==============================] - 1s 4ms/step - loss: 0.0876 - accuracy: 0.9731\n",
      "Epoch 33/50\n",
      "230/230 [==============================] - 1s 4ms/step - loss: 0.0404 - accuracy: 0.9818\n",
      "Epoch 34/50\n",
      "230/230 [==============================] - 1s 4ms/step - loss: 0.0330 - accuracy: 0.9857\n",
      "Epoch 35/50\n",
      "230/230 [==============================] - 1s 4ms/step - loss: 0.0346 - accuracy: 0.9835\n",
      "Epoch 36/50\n",
      "230/230 [==============================] - 1s 4ms/step - loss: 0.0328 - accuracy: 0.9841\n",
      "Epoch 37/50\n",
      "230/230 [==============================] - 1s 4ms/step - loss: 0.0382 - accuracy: 0.9831\n",
      "Epoch 38/50\n",
      "230/230 [==============================] - 1s 4ms/step - loss: 0.0361 - accuracy: 0.9842\n",
      "Epoch 39/50\n",
      "230/230 [==============================] - 1s 4ms/step - loss: 0.0392 - accuracy: 0.9837\n",
      "Epoch 40/50\n",
      "230/230 [==============================] - 1s 4ms/step - loss: 0.0275 - accuracy: 0.9871\n",
      "Epoch 41/50\n",
      "230/230 [==============================] - 1s 4ms/step - loss: 0.0271 - accuracy: 0.9882\n",
      "Epoch 42/50\n",
      "230/230 [==============================] - 1s 4ms/step - loss: 0.0302 - accuracy: 0.9871\n",
      "Epoch 43/50\n",
      "230/230 [==============================] - 1s 4ms/step - loss: 0.0458 - accuracy: 0.9859\n",
      "Epoch 44/50\n",
      "230/230 [==============================] - 1s 4ms/step - loss: 0.0421 - accuracy: 0.9834\n",
      "Epoch 45/50\n",
      "230/230 [==============================] - 1s 4ms/step - loss: 0.0354 - accuracy: 0.9853\n",
      "Epoch 46/50\n",
      "230/230 [==============================] - 1s 4ms/step - loss: 0.0251 - accuracy: 0.9898\n",
      "Epoch 47/50\n",
      "230/230 [==============================] - 1s 4ms/step - loss: 0.0272 - accuracy: 0.9875\n",
      "Epoch 48/50\n",
      "230/230 [==============================] - 1s 4ms/step - loss: 0.0195 - accuracy: 0.9925\n",
      "Epoch 49/50\n",
      "230/230 [==============================] - 1s 4ms/step - loss: 0.0187 - accuracy: 0.9932\n",
      "Epoch 50/50\n",
      "230/230 [==============================] - 1s 4ms/step - loss: 0.0561 - accuracy: 0.9859\n"
     ]
    }
   ],
   "source": [
    "training_history=conv1d_model.fit(X_train, y_train, epochs=50, batch_size=32)"
   ]
  },
  {
   "cell_type": "code",
   "execution_count": 55,
   "id": "c15a855b",
   "metadata": {},
   "outputs": [
    {
     "name": "stdout",
     "output_type": "stream",
     "text": [
      "93/93 [==============================] - 1s 7ms/step - loss: 0.8416 - accuracy: 0.9209\n"
     ]
    }
   ],
   "source": [
    "_, accuracy=conv1d_model.evaluate(X_test, y_test, batch_size=32)"
   ]
  },
  {
   "cell_type": "code",
   "execution_count": 56,
   "id": "0f89e622",
   "metadata": {},
   "outputs": [
    {
     "data": {
      "text/plain": [
       "0.9209365248680115"
      ]
     },
     "execution_count": 56,
     "metadata": {},
     "output_type": "execute_result"
    }
   ],
   "source": [
    "accuracy"
   ]
  },
  {
   "cell_type": "code",
   "execution_count": 57,
   "id": "18d63284",
   "metadata": {},
   "outputs": [],
   "source": [
    "def model_maker(X_train, y_train, X_test, y_test):\n",
    "    n_timesteps, n_features, n_outputs=X_train.shape[1], X_train.shape[2], y_train.shape[1]\n",
    "    \n",
    "    conv1d_model=tf.keras.Sequential()\n",
    "    conv1d_model.add(tf.keras.layers.Conv1D(filters=70, kernel_size=3, activation='relu', input_shape=(n_timesteps, n_features), padding='same'))\n",
    "    conv1d_model.add(tf.keras.layers.Conv1D(filters=70, kernel_size=3, activation='relu', padding='same'))\n",
    "    conv1d_model.add(tf.keras.layers.Dropout(rate=0.5))\n",
    "    conv1d_model.add(tf.keras.layers.MaxPooling1D(pool_size=1))\n",
    "    conv1d_model.add(tf.keras.layers.Flatten())\n",
    "    conv1d_model.add(tf.keras.layers.Dense(150, activation='relu'))\n",
    "    conv1d_model.add(tf.keras.layers.Dense(n_outputs, activation='softmax'))\n",
    "\n",
    "    conv1d_model.compile(loss='categorical_crossentropy', optimizer='adam', metrics=['accuracy'])\n",
    "    \n",
    "    training_history=conv1d_model.fit(X_train, y_train, epochs=50, batch_size=32, verbose=0)\n",
    "    _, accuracy=conv1d_model.evaluate(X_test, y_test, batch_size=32)\n",
    "    return accuracy"
   ]
  },
  {
   "cell_type": "code",
   "execution_count": 58,
   "id": "f80238fa",
   "metadata": {},
   "outputs": [],
   "source": [
    "def summarize_results(scores):\n",
    "    print(scores)\n",
    "    m, s = np.mean(scores), np.std(scores)\n",
    "    print('Accuracy: %.3f%% (+/-%.3f)' % (m, s))"
   ]
  },
  {
   "cell_type": "code",
   "execution_count": 59,
   "id": "007f632f",
   "metadata": {},
   "outputs": [],
   "source": [
    "def experiment(num_of_repeats, X_train, y_train, X_test, y_test):\n",
    "    scores = list()\n",
    "    for n in range(num_of_repeats):\n",
    "        score = model_maker(X_train, y_train, X_test, y_test)\n",
    "        score = score * 100.0\n",
    "        print('>#%d: %.3f' % (n+1, score))\n",
    "        scores.append(score)\n",
    "    summarize_results(scores)"
   ]
  },
  {
   "cell_type": "code",
   "execution_count": 60,
   "id": "58f64876",
   "metadata": {},
   "outputs": [
    {
     "name": "stdout",
     "output_type": "stream",
     "text": [
      "93/93 [==============================] - 0s 2ms/step - loss: 1.1049 - accuracy: 0.9321\n",
      ">#1: 93.213\n",
      "93/93 [==============================] - 0s 3ms/step - loss: 1.5984 - accuracy: 0.9182\n",
      ">#2: 91.822\n",
      "93/93 [==============================] - 0s 2ms/step - loss: 0.8388 - accuracy: 0.9291\n",
      ">#3: 92.908\n",
      "93/93 [==============================] - 0s 3ms/step - loss: 0.8862 - accuracy: 0.9152\n",
      ">#4: 91.517\n",
      "93/93 [==============================] - 0s 3ms/step - loss: 1.0493 - accuracy: 0.9050\n",
      ">#5: 90.499\n",
      "93/93 [==============================] - 0s 3ms/step - loss: 0.7112 - accuracy: 0.9315\n",
      ">#6: 93.146\n",
      "93/93 [==============================] - 0s 3ms/step - loss: 1.6337 - accuracy: 0.9046\n",
      ">#7: 90.465\n",
      "93/93 [==============================] - 0s 3ms/step - loss: 0.8310 - accuracy: 0.9125\n",
      ">#8: 91.245\n",
      "93/93 [==============================] - 0s 3ms/step - loss: 0.7499 - accuracy: 0.9348\n",
      ">#9: 93.485\n",
      "93/93 [==============================] - 0s 3ms/step - loss: 0.6108 - accuracy: 0.9332\n",
      ">#10: 93.315\n",
      "[93.21343898773193, 91.82218909263611, 92.90804266929626, 91.51679873466492, 90.49881100654602, 93.14557313919067, 90.46487808227539, 91.24533534049988, 93.48490238189697, 93.31523776054382]\n",
      "Accuracy: 92.162% (+/-1.128)\n"
     ]
    }
   ],
   "source": [
    "experiment(10, X_train, y_train, X_test, y_test)"
   ]
  },
  {
   "cell_type": "code",
   "execution_count": null,
   "id": "be26bf58",
   "metadata": {},
   "outputs": [],
   "source": []
  }
 ],
 "metadata": {
  "kernelspec": {
   "display_name": "Python 3 (ipykernel)",
   "language": "python",
   "name": "python3"
  },
  "language_info": {
   "codemirror_mode": {
    "name": "ipython",
    "version": 3
   },
   "file_extension": ".py",
   "mimetype": "text/x-python",
   "name": "python",
   "nbconvert_exporter": "python",
   "pygments_lexer": "ipython3",
   "version": "3.10.9"
  }
 },
 "nbformat": 4,
 "nbformat_minor": 5
}
